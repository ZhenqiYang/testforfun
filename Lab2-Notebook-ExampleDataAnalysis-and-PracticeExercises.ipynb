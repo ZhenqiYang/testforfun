{
 "cells": [
  {
   "cell_type": "markdown",
   "metadata": {},
   "source": [
    "This Notebook showcases some data analysis done on a text file downloaded from the Web and provides a set of practice exercises."
   ]
  },
  {
   "cell_type": "code",
   "execution_count": 5,
   "metadata": {},
   "outputs": [
    {
     "name": "stderr",
     "output_type": "stream",
     "text": [
      "[nltk_data] Downloading package punkt to\n",
      "[nltk_data]     C:\\Users\\Archie\\AppData\\Roaming\\nltk_data...\n",
      "[nltk_data]   Package punkt is already up-to-date!\n"
     ]
    }
   ],
   "source": [
    "#Import all required packages\n",
    "import requests\n",
    "import nltk\n",
    "nltk.download('punkt')\n",
    "#Force utf8 as the character encoding\n",
    "import codecs \n",
    "#numpy is a package for numeric computing\n",
    "import numpy as np\n",
    "\n",
    "#nltk is a package for working with text\n",
    "#conda install nltk\n",
    "#Also see: http://www.nltk.org/book/\n",
    "#To download ready-to-use nltk datasets run in your shell: python -m nltk.downloader all\n",
    "#You need the nltk.corpus.stopwords.words('english') for this code to run\n",
    "import nltk\n",
    "\n",
    "#matplotlib is for plotting and nice visualisations\n",
    "import matplotlib\n",
    "%matplotlib inline\n",
    "\n",
    "#Package re is for regular expressions\n",
    "import re \n"
   ]
  },
  {
   "cell_type": "code",
   "execution_count": 6,
   "metadata": {},
   "outputs": [
    {
     "name": "stdout",
     "output_type": "stream",
     "text": [
      "﻿Project Gutenberg's Alice's Adventures in Wonderland, by Lewis Carroll\r\n",
      "\r\n",
      "This eBook is for the use of anyone anywhere at no cost and with\r\n",
      "almost no restrictions whatsoever.  You may copy it, give it away or\r\n",
      "re-use it under the terms of the Project Gutenberg License included\r\n",
      "with this eBook or online at www.gutenberg.org\r\n",
      "\r\n",
      "\r\n",
      "Title: Alice's Adventures in Wonderland\r\n",
      "\r\n",
      "Author: Lewis Carroll\r\n",
      "\r\n",
      "Posting Date: June 25, 2008 [EBook #11]\r\n",
      "Release Date: March, 1994\r\n",
      "[Last updated: December 20, 2011]\r\n",
      "\r\n",
      "Language: English\r\n",
      "\r\n",
      "\r\n",
      "*** START OF THIS PROJECT GUTENBERG EBOOK ALICE'S ADVENTURES IN WONDERLAND ***\r\n",
      "\r\n",
      "\r\n",
      "\r\n",
      "\r\n",
      "\r\n",
      "\r\n",
      "\r\n",
      "\r\n",
      "\r\n",
      "\r\n",
      "ALICE'S ADVENTURES IN WONDERLAND\r\n",
      "\r\n",
      "Lewis Carroll\r\n",
      "\r\n",
      "THE MILLENNIUM FULCRUM EDITION 3.0\r\n",
      "\r\n",
      "\r\n",
      "\r\n",
      "\r\n",
      "CHAPTER I. Down the Rabbit-Hole\r\n",
      "\r\n",
      "Alice was beginning to get very tired of sitting by her sister on the\r\n",
      "bank, and of having nothing to do: once or twice she had peeped into the\r\n",
      "book her sister was reading, but it had no pictures or conversations in\r\n",
      "it, 'and what is the use of a book,' thought Alice 'without pictures or\r\n",
      "conversations?'\r\n",
      "\r\n",
      "So she was considering in her own mind (as well as she could, for the\r\n",
      "hot day made her feel very sleepy and stupid), whether the pleasure\r\n",
      "of making a daisy-chain would be worth the trouble of getting up and\r\n",
      "picking the daisies, when suddenly a White Rabbit with pink eyes ran\r\n",
      "close by her.\r\n",
      "\r\n",
      "There was nothing so VERY remarkable in that; nor did Alice think it so\r\n",
      "VERY much out of the way to hear the Rabbit say to itself, 'Oh dear!\r\n",
      "Oh dear! I shall be late!' (when she thought it over afterwards, it\r\n",
      "occurred to her that she ought to have wondered at this, but at the time\r\n",
      "it all seemed quite natural); but when the Rabbit actually TOOK A WATCH\r\n",
      "OUT OF ITS WAISTCOAT-POCKET, and looked at it, and then hurried on,\r\n",
      "Alice started to her feet, for it flashed across her mind that she had\r\n",
      "never before seen a rabbit with either a waistcoat-pocket, or a watch\r\n",
      "to take out of it, and burning with curiosity, she ran across the field\r\n",
      "after it, and fortunately was just in time to see it pop down a large\r\n",
      "rabbit-hole under the hedge.\r\n",
      "\r\n",
      "In another moment down went Alice after it, never once considering how\r\n",
      "in the world she was to get out again.\r\n",
      "\r\n",
      "The rabbit-hole went straight on like a tunnel for some way, and then\r\n",
      "dipped suddenly down, so suddenly that Alice had not a moment to think\r\n",
      "about stopping herself before she found herself falling down a very deep\r\n",
      "well.\r\n",
      "\r\n",
      "Either the well was very deep, or she fell very slowly, for she had\r\n",
      "plenty of time as she went down to look about her and to wonder what was\r\n",
      "going to happen next. First, she tried to look down and make out what\r\n",
      "she was coming to, but it was too dark to see anything; then she\r\n",
      "looked at the sides of the well, and noticed that they were filled with\r\n",
      "cupboards and book-shelves; here and there she saw maps and pictures\r\n",
      "hung upon pegs. She took down a jar from one of the shelves as\r\n",
      "she passed; it was labelled 'ORANGE MARMALADE', but to her great\r\n",
      "disappointment it was empty: she did not like to drop the jar for fear\r\n",
      "of killing somebody, so managed to put it into one of the cupboards as\r\n",
      "she fell past it.\r\n",
      "\r\n",
      "'Well!' thought Alice to herself, 'after such a fall as this, I shall\r\n",
      "think nothing of tumbling down stairs! How brave they'll all think me at\r\n",
      "home! Why, I wouldn't say anything about it, even if I fell off the top\r\n",
      "of the house!' (Which was very likely true.)\r\n",
      "\r\n",
      "Down, down, down. Would the fall NEVER come to an end! 'I wonder how\r\n",
      "many miles I've fallen by this time?' she said aloud. 'I must be getting\r\n",
      "somewhere near the centre of the earth. Let me see: that would be four\r\n",
      "thousand miles down, I think--' (for, you see, Alice had learnt several\r\n",
      "things of this sort in her lessons in the schoolroom, and though this\r\n",
      "was not a VERY good opportunity for showing off her knowledge, as there\r\n",
      "was no one to listen to her, still it was good practice to say it over)\r\n",
      "'--yes, that's about the right distance--but then I wonder what Latitude\r\n",
      "or Longitude I've got to?' (Alice had no idea what Latitude was, or\r\n",
      "Longitude either, but thought they were nice grand words to say.)\r\n",
      "\r\n",
      "Presently she began again. 'I wonder if I shall fall right THROUGH the\r\n",
      "earth! How funny it'll seem to come out among the people that walk with\r\n",
      "their heads downward! The Antipathies, I think--' (she was rather glad\r\n",
      "there WAS no one listening, this time, as it didn't sound at all the\r\n",
      "right word) '--but I shall have to ask them what the name of the country\r\n",
      "is, you know. Please, Ma'am, is this New Zealand or Australia?' (and\r\n",
      "she tried to curtsey as she spoke--fancy CURTSEYING as you're falling\r\n",
      "through the air! Do you think you could manage it?) 'And what an\r\n",
      "ignorant little girl she'll think me for asking! No, it'll never do to\r\n",
      "ask: perhaps I shall see it written up somewhere.'\r\n",
      "\r\n",
      "Down, down, down. There was nothing else to do, so Alice soon began\r\n",
      "talking again. 'Dinah'll miss me very much to-night, I should think!'\r\n",
      "(Dinah was\n"
     ]
    }
   ],
   "source": [
    "#Get a text file.\n",
    "#Get book \"Alice's Adventures in Wonderland\" from Project Gutenberg, in text format\n",
    "#Store text content to a file named alice.txt\n",
    "\n",
    "url='http://www.gutenberg.org/cache/epub/11/pg11.txt'\n",
    "text_page = requests.get(url).text\n",
    "with codecs.open(\"alice.txt\", \"w\", \"utf8\") as file:\n",
    "    file.write(text_page)\n",
    "#Look at the text_page object\n",
    "#?text_page\n",
    "\n",
    "#Look at the first 5000 characters of the book\n",
    "print(text_page[:5000])"
   ]
  },
  {
   "cell_type": "markdown",
   "metadata": {},
   "source": [
    "# Example of Descriptive Analysis"
   ]
  },
  {
   "cell_type": "code",
   "execution_count": 7,
   "metadata": {},
   "outputs": [
    {
     "name": "stdout",
     "output_type": "stream",
     "text": [
      "Number of chapters:  12\n",
      "Chapter lengths:  [11453, 10989, 9552, 13871, 11986, 13860, 12688, 13656, 12618, 11528, 10380, 30430]\n",
      "Min chapter length:  9552\n",
      "Max chapter length:  30430\n",
      "Avg chapter length:  13584.25\n",
      "Numpy Avg chapter length:  13584.25\n",
      "Deviation from avg chapter length:  5246.15718288158\n"
     ]
    }
   ],
   "source": [
    "#Open the file where we stored the book \"Alice's Adventures in Wonderland\"\n",
    "#Load data into object text\n",
    "with open('alice.txt', 'r') as file:\n",
    "    text = file.read()\n",
    "\n",
    "#Example of Descriptive Analysis\n",
    "#How many chapters does the book have?\n",
    "#Ignore the first element at index 0 which is the pre-face, \n",
    "#not a chapter. See book structure.\n",
    "chapters = text.split(\"CHAPTER\")[1:]\n",
    "chapter_lengths = [len(ch) for ch in chapters]\n",
    "\n",
    "min_chapter_length = len(min(chapters, key=len))\n",
    "max_chapter_length = len(max(chapters, key=len))\n",
    "\n",
    "avg_chapter_length = sum(chapter_lengths)/len(chapters)\n",
    "#Can use numpy for numeric computations such as mean, standard deviation\n",
    "numpy_avg_chapter_length = np.mean(chapter_lengths)\n",
    "stdev_chapter_length = np.std(chapter_lengths)\n",
    "\n",
    "#?nchapters\n",
    "print(\"Number of chapters: \", len(chapters))\n",
    "print(\"Chapter lengths: \", chapter_lengths)\n",
    "print(\"Min chapter length: \", min_chapter_length)\n",
    "print(\"Max chapter length: \", max_chapter_length)\n",
    "print(\"Avg chapter length: \", avg_chapter_length)\n",
    "print(\"Numpy Avg chapter length: \", numpy_avg_chapter_length)\n",
    "print(\"Deviation from avg chapter length: \", stdev_chapter_length)\n",
    "\n"
   ]
  },
  {
   "cell_type": "markdown",
   "metadata": {},
   "source": [
    "# Example of Exploratory Analysis"
   ]
  },
  {
   "cell_type": "code",
   "execution_count": 8,
   "metadata": {},
   "outputs": [
    {
     "name": "stdout",
     "output_type": "stream",
     "text": [
      "Number of sentences:  1744\n",
      "Number of words:  36903\n"
     ]
    },
    {
     "data": {
      "image/png": "[encoded data removed]",
      "text/plain": [
       "<Figure size 432x288 with 1 Axes>"
      ]
     },
     "metadata": {
      "needs_background": "light"
     },
     "output_type": "display_data"
    },
    {
     "ename": "LookupError",
     "evalue": "\n**********************************************************************\n  Resource \u001b[93mstopwords\u001b[0m not found.\n  Please use the NLTK Downloader to obtain the resource:\n\n  \u001b[31m>>> import nltk\n  >>> nltk.download('stopwords')\n  \u001b[0m\n  Attempted to load \u001b[93mcorpora/stopwords\u001b[0m\n\n  Searched in:\n    - 'C:\\\\Users\\\\Archie/nltk_data'\n    - 'C:\\\\Users\\\\Archie\\\\Anaconda3\\\\nltk_data'\n    - 'C:\\\\Users\\\\Archie\\\\Anaconda3\\\\share\\\\nltk_data'\n    - 'C:\\\\Users\\\\Archie\\\\Anaconda3\\\\lib\\\\nltk_data'\n    - 'C:\\\\Users\\\\Archie\\\\AppData\\\\Roaming\\\\nltk_data'\n    - 'C:\\\\nltk_data'\n    - 'D:\\\\nltk_data'\n    - 'E:\\\\nltk_data'\n**********************************************************************\n",
     "output_type": "error",
     "traceback": [
      "\u001b[1;31m---------------------------------------------------------------------------\u001b[0m",
      "\u001b[1;31mLookupError\u001b[0m                               Traceback (most recent call last)",
      "\u001b[1;32m~\\Anaconda3\\lib\\site-packages\\nltk\\corpus\\util.py\u001b[0m in \u001b[0;36m__load\u001b[1;34m(self)\u001b[0m\n\u001b[0;32m     85\u001b[0m                 \u001b[1;32mtry\u001b[0m\u001b[1;33m:\u001b[0m\u001b[1;33m\u001b[0m\u001b[1;33m\u001b[0m\u001b[0m\n\u001b[1;32m---> 86\u001b[1;33m                     \u001b[0mroot\u001b[0m \u001b[1;33m=\u001b[0m \u001b[0mnltk\u001b[0m\u001b[1;33m.\u001b[0m\u001b[0mdata\u001b[0m\u001b[1;33m.\u001b[0m\u001b[0mfind\u001b[0m\u001b[1;33m(\u001b[0m\u001b[1;34m'{}/{}'\u001b[0m\u001b[1;33m.\u001b[0m\u001b[0mformat\u001b[0m\u001b[1;33m(\u001b[0m\u001b[0mself\u001b[0m\u001b[1;33m.\u001b[0m\u001b[0msubdir\u001b[0m\u001b[1;33m,\u001b[0m \u001b[0mzip_name\u001b[0m\u001b[1;33m)\u001b[0m\u001b[1;33m)\u001b[0m\u001b[1;33m\u001b[0m\u001b[1;33m\u001b[0m\u001b[0m\n\u001b[0m\u001b[0;32m     87\u001b[0m                 \u001b[1;32mexcept\u001b[0m \u001b[0mLookupError\u001b[0m\u001b[1;33m:\u001b[0m\u001b[1;33m\u001b[0m\u001b[1;33m\u001b[0m\u001b[0m\n",
      "\u001b[1;32m~\\Anaconda3\\lib\\site-packages\\nltk\\data.py\u001b[0m in \u001b[0;36mfind\u001b[1;34m(resource_name, paths)\u001b[0m\n\u001b[0;32m    698\u001b[0m     \u001b[0mresource_not_found\u001b[0m \u001b[1;33m=\u001b[0m \u001b[1;34m'\\n%s\\n%s\\n%s\\n'\u001b[0m \u001b[1;33m%\u001b[0m \u001b[1;33m(\u001b[0m\u001b[0msep\u001b[0m\u001b[1;33m,\u001b[0m \u001b[0mmsg\u001b[0m\u001b[1;33m,\u001b[0m \u001b[0msep\u001b[0m\u001b[1;33m)\u001b[0m\u001b[1;33m\u001b[0m\u001b[1;33m\u001b[0m\u001b[0m\n\u001b[1;32m--> 699\u001b[1;33m     \u001b[1;32mraise\u001b[0m \u001b[0mLookupError\u001b[0m\u001b[1;33m(\u001b[0m\u001b[0mresource_not_found\u001b[0m\u001b[1;33m)\u001b[0m\u001b[1;33m\u001b[0m\u001b[1;33m\u001b[0m\u001b[0m\n\u001b[0m\u001b[0;32m    700\u001b[0m \u001b[1;33m\u001b[0m\u001b[0m\n",
      "\u001b[1;31mLookupError\u001b[0m: \n**********************************************************************\n  Resource \u001b[93mstopwords\u001b[0m not found.\n  Please use the NLTK Downloader to obtain the resource:\n\n  \u001b[31m>>> import nltk\n  >>> nltk.download('stopwords')\n  \u001b[0m\n  Attempted to load \u001b[93mcorpora/stopwords.zip/stopwords/\u001b[0m\n\n  Searched in:\n    - 'C:\\\\Users\\\\Archie/nltk_data'\n    - 'C:\\\\Users\\\\Archie\\\\Anaconda3\\\\nltk_data'\n    - 'C:\\\\Users\\\\Archie\\\\Anaconda3\\\\share\\\\nltk_data'\n    - 'C:\\\\Users\\\\Archie\\\\Anaconda3\\\\lib\\\\nltk_data'\n    - 'C:\\\\Users\\\\Archie\\\\AppData\\\\Roaming\\\\nltk_data'\n    - 'C:\\\\nltk_data'\n    - 'D:\\\\nltk_data'\n    - 'E:\\\\nltk_data'\n**********************************************************************\n",
      "\nDuring handling of the above exception, another exception occurred:\n",
      "\u001b[1;31mLookupError\u001b[0m                               Traceback (most recent call last)",
      "\u001b[1;32m<ipython-input-8-533778a06ae3>\u001b[0m in \u001b[0;36m<module>\u001b[1;34m\u001b[0m\n\u001b[0;32m     28\u001b[0m \u001b[1;33m\u001b[0m\u001b[0m\n\u001b[0;32m     29\u001b[0m \u001b[1;31m# Remove all stop words from word lists\u001b[0m\u001b[1;33m\u001b[0m\u001b[1;33m\u001b[0m\u001b[1;33m\u001b[0m\u001b[0m\n\u001b[1;32m---> 30\u001b[1;33m \u001b[0malice\u001b[0m \u001b[1;33m=\u001b[0m \u001b[1;33m[\u001b[0m\u001b[0mw\u001b[0m \u001b[1;32mfor\u001b[0m \u001b[0mw\u001b[0m \u001b[1;32min\u001b[0m \u001b[0malice\u001b[0m \u001b[1;32mif\u001b[0m \u001b[1;32mnot\u001b[0m \u001b[0mw\u001b[0m \u001b[1;32min\u001b[0m \u001b[0mnltk\u001b[0m\u001b[1;33m.\u001b[0m\u001b[0mcorpus\u001b[0m\u001b[1;33m.\u001b[0m\u001b[0mstopwords\u001b[0m\u001b[1;33m.\u001b[0m\u001b[0mwords\u001b[0m\u001b[1;33m(\u001b[0m\u001b[1;34m'english'\u001b[0m\u001b[1;33m)\u001b[0m\u001b[1;33m]\u001b[0m\u001b[1;33m\u001b[0m\u001b[1;33m\u001b[0m\u001b[0m\n\u001b[0m\u001b[0;32m     31\u001b[0m \u001b[1;31m#print(alice[:10])\u001b[0m\u001b[1;33m\u001b[0m\u001b[1;33m\u001b[0m\u001b[1;33m\u001b[0m\u001b[0m\n\u001b[0;32m     32\u001b[0m \u001b[1;33m\u001b[0m\u001b[0m\n",
      "\u001b[1;32m<ipython-input-8-533778a06ae3>\u001b[0m in \u001b[0;36m<listcomp>\u001b[1;34m(.0)\u001b[0m\n\u001b[0;32m     28\u001b[0m \u001b[1;33m\u001b[0m\u001b[0m\n\u001b[0;32m     29\u001b[0m \u001b[1;31m# Remove all stop words from word lists\u001b[0m\u001b[1;33m\u001b[0m\u001b[1;33m\u001b[0m\u001b[1;33m\u001b[0m\u001b[0m\n\u001b[1;32m---> 30\u001b[1;33m \u001b[0malice\u001b[0m \u001b[1;33m=\u001b[0m \u001b[1;33m[\u001b[0m\u001b[0mw\u001b[0m \u001b[1;32mfor\u001b[0m \u001b[0mw\u001b[0m \u001b[1;32min\u001b[0m \u001b[0malice\u001b[0m \u001b[1;32mif\u001b[0m \u001b[1;32mnot\u001b[0m \u001b[0mw\u001b[0m \u001b[1;32min\u001b[0m \u001b[0mnltk\u001b[0m\u001b[1;33m.\u001b[0m\u001b[0mcorpus\u001b[0m\u001b[1;33m.\u001b[0m\u001b[0mstopwords\u001b[0m\u001b[1;33m.\u001b[0m\u001b[0mwords\u001b[0m\u001b[1;33m(\u001b[0m\u001b[1;34m'english'\u001b[0m\u001b[1;33m)\u001b[0m\u001b[1;33m]\u001b[0m\u001b[1;33m\u001b[0m\u001b[1;33m\u001b[0m\u001b[0m\n\u001b[0m\u001b[0;32m     31\u001b[0m \u001b[1;31m#print(alice[:10])\u001b[0m\u001b[1;33m\u001b[0m\u001b[1;33m\u001b[0m\u001b[1;33m\u001b[0m\u001b[0m\n\u001b[0;32m     32\u001b[0m \u001b[1;33m\u001b[0m\u001b[0m\n",
      "\u001b[1;32m~\\Anaconda3\\lib\\site-packages\\nltk\\corpus\\util.py\u001b[0m in \u001b[0;36m__getattr__\u001b[1;34m(self, attr)\u001b[0m\n\u001b[0;32m    121\u001b[0m             \u001b[1;32mraise\u001b[0m \u001b[0mAttributeError\u001b[0m\u001b[1;33m(\u001b[0m\u001b[1;34m\"LazyCorpusLoader object has no attribute '__bases__'\"\u001b[0m\u001b[1;33m)\u001b[0m\u001b[1;33m\u001b[0m\u001b[1;33m\u001b[0m\u001b[0m\n\u001b[0;32m    122\u001b[0m \u001b[1;33m\u001b[0m\u001b[0m\n\u001b[1;32m--> 123\u001b[1;33m         \u001b[0mself\u001b[0m\u001b[1;33m.\u001b[0m\u001b[0m__load\u001b[0m\u001b[1;33m(\u001b[0m\u001b[1;33m)\u001b[0m\u001b[1;33m\u001b[0m\u001b[1;33m\u001b[0m\u001b[0m\n\u001b[0m\u001b[0;32m    124\u001b[0m         \u001b[1;31m# This looks circular, but its not, since __load() changes our\u001b[0m\u001b[1;33m\u001b[0m\u001b[1;33m\u001b[0m\u001b[1;33m\u001b[0m\u001b[0m\n\u001b[0;32m    125\u001b[0m         \u001b[1;31m# __class__ to something new:\u001b[0m\u001b[1;33m\u001b[0m\u001b[1;33m\u001b[0m\u001b[1;33m\u001b[0m\u001b[0m\n",
      "\u001b[1;32m~\\Anaconda3\\lib\\site-packages\\nltk\\corpus\\util.py\u001b[0m in \u001b[0;36m__load\u001b[1;34m(self)\u001b[0m\n\u001b[0;32m     86\u001b[0m                     \u001b[0mroot\u001b[0m \u001b[1;33m=\u001b[0m \u001b[0mnltk\u001b[0m\u001b[1;33m.\u001b[0m\u001b[0mdata\u001b[0m\u001b[1;33m.\u001b[0m\u001b[0mfind\u001b[0m\u001b[1;33m(\u001b[0m\u001b[1;34m'{}/{}'\u001b[0m\u001b[1;33m.\u001b[0m\u001b[0mformat\u001b[0m\u001b[1;33m(\u001b[0m\u001b[0mself\u001b[0m\u001b[1;33m.\u001b[0m\u001b[0msubdir\u001b[0m\u001b[1;33m,\u001b[0m \u001b[0mzip_name\u001b[0m\u001b[1;33m)\u001b[0m\u001b[1;33m)\u001b[0m\u001b[1;33m\u001b[0m\u001b[1;33m\u001b[0m\u001b[0m\n\u001b[0;32m     87\u001b[0m                 \u001b[1;32mexcept\u001b[0m \u001b[0mLookupError\u001b[0m\u001b[1;33m:\u001b[0m\u001b[1;33m\u001b[0m\u001b[1;33m\u001b[0m\u001b[0m\n\u001b[1;32m---> 88\u001b[1;33m                     \u001b[1;32mraise\u001b[0m \u001b[0me\u001b[0m\u001b[1;33m\u001b[0m\u001b[1;33m\u001b[0m\u001b[0m\n\u001b[0m\u001b[0;32m     89\u001b[0m \u001b[1;33m\u001b[0m\u001b[0m\n\u001b[0;32m     90\u001b[0m         \u001b[1;31m# Load the corpus.\u001b[0m\u001b[1;33m\u001b[0m\u001b[1;33m\u001b[0m\u001b[1;33m\u001b[0m\u001b[0m\n",
      "\u001b[1;32m~\\Anaconda3\\lib\\site-packages\\nltk\\corpus\\util.py\u001b[0m in \u001b[0;36m__load\u001b[1;34m(self)\u001b[0m\n\u001b[0;32m     81\u001b[0m         \u001b[1;32melse\u001b[0m\u001b[1;33m:\u001b[0m\u001b[1;33m\u001b[0m\u001b[1;33m\u001b[0m\u001b[0m\n\u001b[0;32m     82\u001b[0m             \u001b[1;32mtry\u001b[0m\u001b[1;33m:\u001b[0m\u001b[1;33m\u001b[0m\u001b[1;33m\u001b[0m\u001b[0m\n\u001b[1;32m---> 83\u001b[1;33m                 \u001b[0mroot\u001b[0m \u001b[1;33m=\u001b[0m \u001b[0mnltk\u001b[0m\u001b[1;33m.\u001b[0m\u001b[0mdata\u001b[0m\u001b[1;33m.\u001b[0m\u001b[0mfind\u001b[0m\u001b[1;33m(\u001b[0m\u001b[1;34m'{}/{}'\u001b[0m\u001b[1;33m.\u001b[0m\u001b[0mformat\u001b[0m\u001b[1;33m(\u001b[0m\u001b[0mself\u001b[0m\u001b[1;33m.\u001b[0m\u001b[0msubdir\u001b[0m\u001b[1;33m,\u001b[0m \u001b[0mself\u001b[0m\u001b[1;33m.\u001b[0m\u001b[0m__name\u001b[0m\u001b[1;33m)\u001b[0m\u001b[1;33m)\u001b[0m\u001b[1;33m\u001b[0m\u001b[1;33m\u001b[0m\u001b[0m\n\u001b[0m\u001b[0;32m     84\u001b[0m             \u001b[1;32mexcept\u001b[0m \u001b[0mLookupError\u001b[0m \u001b[1;32mas\u001b[0m \u001b[0me\u001b[0m\u001b[1;33m:\u001b[0m\u001b[1;33m\u001b[0m\u001b[1;33m\u001b[0m\u001b[0m\n\u001b[0;32m     85\u001b[0m                 \u001b[1;32mtry\u001b[0m\u001b[1;33m:\u001b[0m\u001b[1;33m\u001b[0m\u001b[1;33m\u001b[0m\u001b[0m\n",
      "\u001b[1;32m~\\Anaconda3\\lib\\site-packages\\nltk\\data.py\u001b[0m in \u001b[0;36mfind\u001b[1;34m(resource_name, paths)\u001b[0m\n\u001b[0;32m    697\u001b[0m     \u001b[0msep\u001b[0m \u001b[1;33m=\u001b[0m \u001b[1;34m'*'\u001b[0m \u001b[1;33m*\u001b[0m \u001b[1;36m70\u001b[0m\u001b[1;33m\u001b[0m\u001b[1;33m\u001b[0m\u001b[0m\n\u001b[0;32m    698\u001b[0m     \u001b[0mresource_not_found\u001b[0m \u001b[1;33m=\u001b[0m \u001b[1;34m'\\n%s\\n%s\\n%s\\n'\u001b[0m \u001b[1;33m%\u001b[0m \u001b[1;33m(\u001b[0m\u001b[0msep\u001b[0m\u001b[1;33m,\u001b[0m \u001b[0mmsg\u001b[0m\u001b[1;33m,\u001b[0m \u001b[0msep\u001b[0m\u001b[1;33m)\u001b[0m\u001b[1;33m\u001b[0m\u001b[1;33m\u001b[0m\u001b[0m\n\u001b[1;32m--> 699\u001b[1;33m     \u001b[1;32mraise\u001b[0m \u001b[0mLookupError\u001b[0m\u001b[1;33m(\u001b[0m\u001b[0mresource_not_found\u001b[0m\u001b[1;33m)\u001b[0m\u001b[1;33m\u001b[0m\u001b[1;33m\u001b[0m\u001b[0m\n\u001b[0m\u001b[0;32m    700\u001b[0m \u001b[1;33m\u001b[0m\u001b[0m\n\u001b[0;32m    701\u001b[0m \u001b[1;33m\u001b[0m\u001b[0m\n",
      "\u001b[1;31mLookupError\u001b[0m: \n**********************************************************************\n  Resource \u001b[93mstopwords\u001b[0m not found.\n  Please use the NLTK Downloader to obtain the resource:\n\n  \u001b[31m>>> import nltk\n  >>> nltk.download('stopwords')\n  \u001b[0m\n  Attempted to load \u001b[93mcorpora/stopwords\u001b[0m\n\n  Searched in:\n    - 'C:\\\\Users\\\\Archie/nltk_data'\n    - 'C:\\\\Users\\\\Archie\\\\Anaconda3\\\\nltk_data'\n    - 'C:\\\\Users\\\\Archie\\\\Anaconda3\\\\share\\\\nltk_data'\n    - 'C:\\\\Users\\\\Archie\\\\Anaconda3\\\\lib\\\\nltk_data'\n    - 'C:\\\\Users\\\\Archie\\\\AppData\\\\Roaming\\\\nltk_data'\n    - 'C:\\\\nltk_data'\n    - 'D:\\\\nltk_data'\n    - 'E:\\\\nltk_data'\n**********************************************************************\n"
     ]
    }
   ],
   "source": [
    "#Open the file where we stored the book \"Alice's Adventures in Wonderland\"\n",
    "#Load data into object text\n",
    "with open('alice.txt', 'r') as file:\n",
    "    text = file.read()\n",
    "\n",
    "#Example of Exploratory Analysis\n",
    "#Where in the text do given words occur? (visualisation)\n",
    "#What are the top-20 most frequent words in this book? (summarization)\n",
    "sentences = nltk.sent_tokenize(text)\n",
    "words = nltk.word_tokenize(text)\n",
    "#print(words[:10])\n",
    "print(\"Number of sentences: \", len(sentences))\n",
    "print(\"Number of words: \", len(words))\n",
    "\n",
    "#Turn the text into an nltk object Text\n",
    "alice = nltk.Text(words)\n",
    "#?alice\n",
    "#Where in the text do given words occur? (visualisation)\n",
    "alice.dispersion_plot([\"Alice\", \"Rabbit\", \"Duchess\"])\n",
    "\n",
    "# Remove all punctuation from word lists - note the use of regular expressions!\n",
    "#\\W Matches any non-alphanumeric character; this is equivalent to the class [^a-zA-Z0-9_].\n",
    "#For more details: https://docs.python.org/3/howto/regex.html\n",
    "alice = [w for w in alice if not (re.match(r'^\\W+$', w) != None)]\n",
    "\n",
    "# Convert all words to lower case\n",
    "alice = [w.lower() for w in alice]\n",
    "\n",
    "# Remove all stop words from word lists\n",
    "alice = [w for w in alice if not w in nltk.corpus.stopwords.words('english')]\n",
    "#print(alice[:10])\n",
    "\n",
    "word_frequency = nltk.FreqDist(alice)\n",
    "# #?word_frequency\n",
    "#What are the top-10 most frequent words in this book?\n",
    "print(\"\\nMost frequent top-10 words: \", word_frequency.most_common(10))\n",
    "word_frequency.plot(10)\n",
    "word_frequency = nltk.FreqDist(alice)\n",
    "# #?word_frequency\n",
    "#What are the top-10 most frequent words in this book?\n",
    "print(\"\\nMost frequent top-10 words: \", word_frequency.most_common(10))\n",
    "word_frequency.plot(10)"
   ]
  },
  {
   "cell_type": "code",
   "execution_count": null,
   "metadata": {},
   "outputs": [],
   "source": []
  },
  {
   "cell_type": "code",
   "execution_count": null,
   "metadata": {},
   "outputs": [],
   "source": []
  },
  {
   "cell_type": "markdown",
   "metadata": {},
   "source": [
    "# Practice Exercises"
   ]
  },
  {
   "cell_type": "markdown",
   "metadata": {
    "collapsed": true
   },
   "source": [
    "Practice downloading files from the Internet, doing some preliminary data analysis and extracting new knowledge from them. Below you are given a set of exercises requesting you to download PDF files, extract their text content and do some analysis using the text. You can do this using other types of data of your own interest (e.g., news articles in HTML format). We work with PDF here because many reports are released in PDF format (e.g., http://www.publicpolicy.ie/download-center/downloads-by-theme/) and it is useful to know how to extract their content and work with it with the aim to extract new knowledge.\n",
    "\n",
    "## Problem Setup\n",
    "In February 2016, the Irish General Elections took place. Many of the participating political parties released their political program (aka manifestos) ahead of the election, in PDF formats. At the URL below you can find a sample of such reports. \n",
    "Please do the following:\n",
    "\n",
    "1. For two Irish political parties of your own choice, search and download the files containing their General Elections 2016 political manifesto (i.e., political plan). A few manifestos available online in pdf format are given at this link: [GE16 Party Manifestos](https://drive.google.com/drive/folders/0B0F5ayfFxHc7Y2xBOE5uY1VzSFE?usp=sharing)\n",
    "    \n",
    "2. Extract the text content from the two files, and save it to two different text files on your computer.\n",
    "\n",
    "3. Using the text of each political manifesto, compute and print descriptive statistics: \n",
    "    - print the first 500 characters of the text, \n",
    "    - print the total number of sentences and the shortest and the longest sentence, \n",
    "    - print the total number of words and the ratio of unique words to total number of words, \n",
    "    - print the most frequent 20 words.\n",
    "    \n",
    "4. For each text file containing the political manifesto:\n",
    "    - remove the punctuation from the text, transform all words to lower case and remove the stop words,\n",
    "    - print the first 500 characters of the cleaned text,\n",
    "    - print the top-20 most frequent words in the cleaned text, \n",
    "    - on the cleaned text, use a dispersion plot to show the coverage of different issues in the two manifestos, where the issues are: \"abortion\", \"crime\", \"debt\", \"economy\", \"environment\", \"health\", \"housing\", \"infrastructure\" , \"jobs\", \"tax\".\n",
    "\n",
    "5. Choose two different methods of summarising and contrasting the two political manifestos to give a better understanding of the characteristics and focus of each. Discuss the advantages and disadvantages of the methods proposed."
   ]
  },
  {
   "cell_type": "code",
   "execution_count": null,
   "metadata": {},
   "outputs": [],
   "source": []
  },
  {
   "cell_type": "code",
   "execution_count": null,
   "metadata": {},
   "outputs": [],
   "source": []
  }
 ],
 "metadata": {
  "kernelspec": {
   "display_name": "Python 3",
   "language": "python",
   "name": "python3"
  },
  "language_info": {
   "codemirror_mode": {
    "name": "ipython",
    "version": 3
   },
   "file_extension": ".py",
   "mimetype": "text/x-python",
   "name": "python",
   "nbconvert_exporter": "python",
   "pygments_lexer": "ipython3",
   "version": "3.7.1"
  }
 },
 "nbformat": 4,
 "nbformat_minor": 1
}
